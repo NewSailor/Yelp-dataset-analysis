{
 "cells": [
  {
   "cell_type": "code",
   "execution_count": 3,
   "metadata": {
    "collapsed": true
   },
   "outputs": [],
   "source": [
    "import pandas as pd\n",
    "import numpy as np\n",
    "import datetime\n",
    "from matplotlib import pyplot as plt\n",
    "\n"
   ]
  },
  {
   "cell_type": "code",
   "execution_count": 4,
   "metadata": {
    "collapsed": true
   },
   "outputs": [],
   "source": [
    "review=pd.read_json('/Users/Paul/Desktop/chinese_restaurants_review/chinese_restaurants_review.json', lines=True)\n"
   ]
  },
  {
   "cell_type": "code",
   "execution_count": 5,
   "metadata": {
    "scrolled": true
   },
   "outputs": [
    {
     "data": {
      "text/html": [
       "<div>\n",
       "<style>\n",
       "    .dataframe thead tr:only-child th {\n",
       "        text-align: right;\n",
       "    }\n",
       "\n",
       "    .dataframe thead th {\n",
       "        text-align: left;\n",
       "    }\n",
       "\n",
       "    .dataframe tbody tr th {\n",
       "        vertical-align: top;\n",
       "    }\n",
       "</style>\n",
       "<table border=\"1\" class=\"dataframe\">\n",
       "  <thead>\n",
       "    <tr style=\"text-align: right;\">\n",
       "      <th></th>\n",
       "      <th>business_id</th>\n",
       "      <th>cool</th>\n",
       "      <th>date</th>\n",
       "      <th>funny</th>\n",
       "      <th>review_id</th>\n",
       "      <th>stars</th>\n",
       "      <th>text</th>\n",
       "      <th>type</th>\n",
       "      <th>useful</th>\n",
       "      <th>user_id</th>\n",
       "    </tr>\n",
       "  </thead>\n",
       "  <tbody>\n",
       "    <tr>\n",
       "      <th>0</th>\n",
       "      <td>-lbN0pSYgK2BRnHNV48PMw</td>\n",
       "      <td>0</td>\n",
       "      <td>2015-05-18</td>\n",
       "      <td>0</td>\n",
       "      <td>PyE0jOhNWfgIBiqMvxnnZA</td>\n",
       "      <td>5</td>\n",
       "      <td>This place is a gem. We had friendly attentive...</td>\n",
       "      <td>review</td>\n",
       "      <td>0</td>\n",
       "      <td>a8S38gZi5r0LAM1UYYP78A</td>\n",
       "    </tr>\n",
       "    <tr>\n",
       "      <th>1</th>\n",
       "      <td>-lbN0pSYgK2BRnHNV48PMw</td>\n",
       "      <td>0</td>\n",
       "      <td>2014-11-28</td>\n",
       "      <td>0</td>\n",
       "      <td>751DoGeoBcDMXbFCxQvOoA</td>\n",
       "      <td>5</td>\n",
       "      <td>This is perhaps the closest pho restaurant to ...</td>\n",
       "      <td>review</td>\n",
       "      <td>0</td>\n",
       "      <td>C9z04s9HhssHZ_Rd8QnVsQ</td>\n",
       "    </tr>\n",
       "    <tr>\n",
       "      <th>2</th>\n",
       "      <td>-lbN0pSYgK2BRnHNV48PMw</td>\n",
       "      <td>0</td>\n",
       "      <td>2014-06-17</td>\n",
       "      <td>0</td>\n",
       "      <td>FrF2YacZKin85hIN1fz0qQ</td>\n",
       "      <td>4</td>\n",
       "      <td>Happened to stumble upon this little quaint re...</td>\n",
       "      <td>review</td>\n",
       "      <td>1</td>\n",
       "      <td>Xij9XLFMVDczC9THV8luYQ</td>\n",
       "    </tr>\n",
       "  </tbody>\n",
       "</table>\n",
       "</div>"
      ],
      "text/plain": [
       "              business_id  cool       date  funny               review_id  \\\n",
       "0  -lbN0pSYgK2BRnHNV48PMw     0 2015-05-18      0  PyE0jOhNWfgIBiqMvxnnZA   \n",
       "1  -lbN0pSYgK2BRnHNV48PMw     0 2014-11-28      0  751DoGeoBcDMXbFCxQvOoA   \n",
       "2  -lbN0pSYgK2BRnHNV48PMw     0 2014-06-17      0  FrF2YacZKin85hIN1fz0qQ   \n",
       "\n",
       "   stars                                               text    type  useful  \\\n",
       "0      5  This place is a gem. We had friendly attentive...  review       0   \n",
       "1      5  This is perhaps the closest pho restaurant to ...  review       0   \n",
       "2      4  Happened to stumble upon this little quaint re...  review       1   \n",
       "\n",
       "                  user_id  \n",
       "0  a8S38gZi5r0LAM1UYYP78A  \n",
       "1  C9z04s9HhssHZ_Rd8QnVsQ  \n",
       "2  Xij9XLFMVDczC9THV8luYQ  "
      ]
     },
     "execution_count": 5,
     "metadata": {},
     "output_type": "execute_result"
    }
   ],
   "source": [
    "review[0:3]"
   ]
  },
  {
   "cell_type": "code",
   "execution_count": 6,
   "metadata": {
    "collapsed": true
   },
   "outputs": [],
   "source": [
    "import nltk\n",
    "import string\n",
    "from nltk.stem import PorterStemmer\n",
    "from nltk.corpus import stopwords\n",
    "ps = PorterStemmer()\n",
    "def token(x):\n",
    "    \n",
    "    x = x.lower()\n",
    "    x_token = nltk.word_tokenize(x)\n",
    "    \n",
    "    # remove stop words\n",
    "    stopWords = set(stopwords.words('english'))\n",
    "    x_token = [p for p in x_token if p not in stopWords]\n",
    "    \n",
    "     #remove punctuations\n",
    "    table=str.maketrans(dict.fromkeys(string.punctuation))\n",
    "    x_token = [p.translate(table) for p in x_token ]\n",
    "      \n",
    "        \n",
    "    # after removing punctuation, some token may become ' '\n",
    "    return [p for p in x_token if p != '']\n"
   ]
  },
  {
   "cell_type": "code",
   "execution_count": 8,
   "metadata": {},
   "outputs": [
    {
     "name": "stdout",
     "output_type": "stream",
     "text": [
      "['hello', '!', 'i', 'like', 'to', 'play^^', 'basketball', ':', ')']\n",
      "['hello', '!', 'like', 'play^^', 'basketball', ':', ')']\n",
      "['hello', '', 'like', 'play', 'basketball', '', '']\n"
     ]
    }
   ],
   "source": [
    "# a test for the funciton token()\n",
    "\n",
    "x='Hello! I like to play^^ Basketball:)'\n",
    "x = x.lower()\n",
    "x = nltk.word_tokenize(x)\n",
    "stopWords = set(stopwords.words('english'))\n",
    "y = [p for p in x if p not in stopWords]\n",
    "table=str.maketrans(dict.fromkeys(string.punctuation))\n",
    "z = [q.translate(table) for q in y ]\n",
    "\n",
    "print(x)\n",
    "print(y)\n",
    "print(z)"
   ]
  },
  {
   "cell_type": "code",
   "execution_count": 9,
   "metadata": {
    "collapsed": true
   },
   "outputs": [],
   "source": [
    "# drop irrelavant information for our purpose\n",
    "\n",
    "review=review.drop(['business_id', 'cool', 'date', 'funny', 'review_id', 'type', 'user_id'], axis=1)"
   ]
  },
  {
   "cell_type": "code",
   "execution_count": 10,
   "metadata": {},
   "outputs": [
    {
     "data": {
      "text/html": [
       "<div>\n",
       "<style>\n",
       "    .dataframe thead tr:only-child th {\n",
       "        text-align: right;\n",
       "    }\n",
       "\n",
       "    .dataframe thead th {\n",
       "        text-align: left;\n",
       "    }\n",
       "\n",
       "    .dataframe tbody tr th {\n",
       "        vertical-align: top;\n",
       "    }\n",
       "</style>\n",
       "<table border=\"1\" class=\"dataframe\">\n",
       "  <thead>\n",
       "    <tr style=\"text-align: right;\">\n",
       "      <th></th>\n",
       "      <th>stars</th>\n",
       "      <th>text</th>\n",
       "      <th>useful</th>\n",
       "    </tr>\n",
       "  </thead>\n",
       "  <tbody>\n",
       "    <tr>\n",
       "      <th>0</th>\n",
       "      <td>5</td>\n",
       "      <td>This place is a gem. We had friendly attentive...</td>\n",
       "      <td>0</td>\n",
       "    </tr>\n",
       "    <tr>\n",
       "      <th>1</th>\n",
       "      <td>5</td>\n",
       "      <td>This is perhaps the closest pho restaurant to ...</td>\n",
       "      <td>0</td>\n",
       "    </tr>\n",
       "    <tr>\n",
       "      <th>2</th>\n",
       "      <td>4</td>\n",
       "      <td>Happened to stumble upon this little quaint re...</td>\n",
       "      <td>1</td>\n",
       "    </tr>\n",
       "  </tbody>\n",
       "</table>\n",
       "</div>"
      ],
      "text/plain": [
       "   stars                                               text  useful\n",
       "0      5  This place is a gem. We had friendly attentive...       0\n",
       "1      5  This is perhaps the closest pho restaurant to ...       0\n",
       "2      4  Happened to stumble upon this little quaint re...       1"
      ]
     },
     "execution_count": 10,
     "metadata": {},
     "output_type": "execute_result"
    }
   ],
   "source": [
    "review[0:3]"
   ]
  },
  {
   "cell_type": "code",
   "execution_count": 11,
   "metadata": {},
   "outputs": [
    {
     "name": "stdout",
     "output_type": "stream",
     "text": [
      "Total time spent: 0:18:43.902904\n"
     ]
    },
    {
     "data": {
      "text/html": [
       "<div>\n",
       "<style>\n",
       "    .dataframe thead tr:only-child th {\n",
       "        text-align: right;\n",
       "    }\n",
       "\n",
       "    .dataframe thead th {\n",
       "        text-align: left;\n",
       "    }\n",
       "\n",
       "    .dataframe tbody tr th {\n",
       "        vertical-align: top;\n",
       "    }\n",
       "</style>\n",
       "<table border=\"1\" class=\"dataframe\">\n",
       "  <thead>\n",
       "    <tr style=\"text-align: right;\">\n",
       "      <th></th>\n",
       "      <th>stars</th>\n",
       "      <th>text</th>\n",
       "      <th>useful</th>\n",
       "      <th>token</th>\n",
       "    </tr>\n",
       "  </thead>\n",
       "  <tbody>\n",
       "    <tr>\n",
       "      <th>0</th>\n",
       "      <td>5</td>\n",
       "      <td>This place is a gem. We had friendly attentive...</td>\n",
       "      <td>0</td>\n",
       "      <td>[place, gem, friendly, attentive, service, foo...</td>\n",
       "    </tr>\n",
       "    <tr>\n",
       "      <th>1</th>\n",
       "      <td>5</td>\n",
       "      <td>This is perhaps the closest pho restaurant to ...</td>\n",
       "      <td>0</td>\n",
       "      <td>[perhaps, closest, pho, restaurant, port, cred...</td>\n",
       "    </tr>\n",
       "    <tr>\n",
       "      <th>2</th>\n",
       "      <td>4</td>\n",
       "      <td>Happened to stumble upon this little quaint re...</td>\n",
       "      <td>1</td>\n",
       "      <td>[happened, stumble, upon, little, quaint, rest...</td>\n",
       "    </tr>\n",
       "    <tr>\n",
       "      <th>3</th>\n",
       "      <td>4</td>\n",
       "      <td>Very good food for decent prices. The atmosphe...</td>\n",
       "      <td>0</td>\n",
       "      <td>[good, food, decent, prices, atmosphere, nice,...</td>\n",
       "    </tr>\n",
       "    <tr>\n",
       "      <th>4</th>\n",
       "      <td>3</td>\n",
       "      <td>The food was very fresh and quite tasty. The m...</td>\n",
       "      <td>1</td>\n",
       "      <td>[food, fresh, quite, tasty, mango, salad, nice...</td>\n",
       "    </tr>\n",
       "  </tbody>\n",
       "</table>\n",
       "</div>"
      ],
      "text/plain": [
       "   stars                                               text  useful  \\\n",
       "0      5  This place is a gem. We had friendly attentive...       0   \n",
       "1      5  This is perhaps the closest pho restaurant to ...       0   \n",
       "2      4  Happened to stumble upon this little quaint re...       1   \n",
       "3      4  Very good food for decent prices. The atmosphe...       0   \n",
       "4      3  The food was very fresh and quite tasty. The m...       1   \n",
       "\n",
       "                                               token  \n",
       "0  [place, gem, friendly, attentive, service, foo...  \n",
       "1  [perhaps, closest, pho, restaurant, port, cred...  \n",
       "2  [happened, stumble, upon, little, quaint, rest...  \n",
       "3  [good, food, decent, prices, atmosphere, nice,...  \n",
       "4  [food, fresh, quite, tasty, mango, salad, nice...  "
      ]
     },
     "execution_count": 11,
     "metadata": {},
     "output_type": "execute_result"
    }
   ],
   "source": [
    "# get token for each review item\n",
    "\n",
    "begin = datetime.datetime.now()\n",
    "review['token'] = review['text'].apply(lambda x: token(x))\n",
    "print ('Total time spent:', datetime.datetime.now() - begin)\n",
    "review.head()\n",
    "\n"
   ]
  },
  {
   "cell_type": "code",
   "execution_count": 12,
   "metadata": {},
   "outputs": [
    {
     "data": {
      "text/html": [
       "<div>\n",
       "<style>\n",
       "    .dataframe thead tr:only-child th {\n",
       "        text-align: right;\n",
       "    }\n",
       "\n",
       "    .dataframe thead th {\n",
       "        text-align: left;\n",
       "    }\n",
       "\n",
       "    .dataframe tbody tr th {\n",
       "        vertical-align: top;\n",
       "    }\n",
       "</style>\n",
       "<table border=\"1\" class=\"dataframe\">\n",
       "  <thead>\n",
       "    <tr style=\"text-align: right;\">\n",
       "      <th></th>\n",
       "      <th>stars</th>\n",
       "      <th>useful</th>\n",
       "      <th>token</th>\n",
       "    </tr>\n",
       "  </thead>\n",
       "  <tbody>\n",
       "    <tr>\n",
       "      <th>0</th>\n",
       "      <td>5</td>\n",
       "      <td>0</td>\n",
       "      <td>[place, gem, friendly, attentive, service, foo...</td>\n",
       "    </tr>\n",
       "    <tr>\n",
       "      <th>1</th>\n",
       "      <td>5</td>\n",
       "      <td>0</td>\n",
       "      <td>[perhaps, closest, pho, restaurant, port, cred...</td>\n",
       "    </tr>\n",
       "    <tr>\n",
       "      <th>2</th>\n",
       "      <td>4</td>\n",
       "      <td>1</td>\n",
       "      <td>[happened, stumble, upon, little, quaint, rest...</td>\n",
       "    </tr>\n",
       "    <tr>\n",
       "      <th>3</th>\n",
       "      <td>4</td>\n",
       "      <td>0</td>\n",
       "      <td>[good, food, decent, prices, atmosphere, nice,...</td>\n",
       "    </tr>\n",
       "    <tr>\n",
       "      <th>4</th>\n",
       "      <td>3</td>\n",
       "      <td>1</td>\n",
       "      <td>[food, fresh, quite, tasty, mango, salad, nice...</td>\n",
       "    </tr>\n",
       "  </tbody>\n",
       "</table>\n",
       "</div>"
      ],
      "text/plain": [
       "   stars  useful                                              token\n",
       "0      5       0  [place, gem, friendly, attentive, service, foo...\n",
       "1      5       0  [perhaps, closest, pho, restaurant, port, cred...\n",
       "2      4       1  [happened, stumble, upon, little, quaint, rest...\n",
       "3      4       0  [good, food, decent, prices, atmosphere, nice,...\n",
       "4      3       1  [food, fresh, quite, tasty, mango, salad, nice..."
      ]
     },
     "execution_count": 12,
     "metadata": {},
     "output_type": "execute_result"
    }
   ],
   "source": [
    "# drop the 'text' column\n",
    "review=review.drop('text', axis=1)\n",
    "review.head()"
   ]
  },
  {
   "cell_type": "code",
   "execution_count": 10,
   "metadata": {
    "collapsed": true
   },
   "outputs": [],
   "source": [
    "review.to_json('/Users/Paul/Desktop/chinese_restaurants_review/review_processed.json', orient='records', lines=True)"
   ]
  },
  {
   "cell_type": "code",
   "execution_count": 13,
   "metadata": {},
   "outputs": [
    {
     "name": "stderr",
     "output_type": "stream",
     "text": [
      "C:\\Users\\Paul\\Anaconda3\\lib\\site-packages\\gensim\\utils.py:862: UserWarning: detected Windows; aliasing chunkize to chunkize_serial\n",
      "  warnings.warn(\"detected Windows; aliasing chunkize to chunkize_serial\")\n"
     ]
    }
   ],
   "source": [
    "from gensim.models import word2vec"
   ]
  },
  {
   "cell_type": "code",
   "execution_count": 14,
   "metadata": {
    "collapsed": true
   },
   "outputs": [],
   "source": [
    "num_features = 300   # Word vector dimensionality                      \n",
    "min_word_count = 40   # Minimum word count                        \n",
    "num_workers = 4       # Number of threads to run in parallel\n",
    "context = 10         # Context window size                                                                                    \n",
    "downsampling = 1e-3   # Downsample setting for frequent words"
   ]
  },
  {
   "cell_type": "code",
   "execution_count": 16,
   "metadata": {},
   "outputs": [
    {
     "name": "stdout",
     "output_type": "stream",
     "text": [
      "Total time spent: 218.11289191246033\n"
     ]
    }
   ],
   "source": [
    "import time\n",
    "begin = time.time()\n",
    "w2v_model = word2vec.Word2Vec(review.token, workers=num_workers, \\\n",
    "            size=num_features, min_count = min_word_count, \\\n",
    "            window = context, sample = downsampling)\n",
    "print ('Total time spent:', time.time() - begin)"
   ]
  },
  {
   "cell_type": "code",
   "execution_count": 9,
   "metadata": {},
   "outputs": [
    {
     "ename": "NameError",
     "evalue": "name 'w2v_model' is not defined",
     "output_type": "error",
     "traceback": [
      "\u001b[1;31m---------------------------------------------------------------------------\u001b[0m",
      "\u001b[1;31mNameError\u001b[0m                                 Traceback (most recent call last)",
      "\u001b[1;32m<ipython-input-9-96ef763910a8>\u001b[0m in \u001b[0;36m<module>\u001b[1;34m()\u001b[0m\n\u001b[1;32m----> 1\u001b[1;33m \u001b[0mw2v_model\u001b[0m\u001b[1;33m.\u001b[0m\u001b[0msimilarity\u001b[0m\u001b[1;33m(\u001b[0m\u001b[1;34m'tasty'\u001b[0m\u001b[1;33m,\u001b[0m \u001b[1;34m'good'\u001b[0m\u001b[1;33m)\u001b[0m\u001b[1;33m\u001b[0m\u001b[0m\n\u001b[0m",
      "\u001b[1;31mNameError\u001b[0m: name 'w2v_model' is not defined"
     ]
    }
   ],
   "source": [
    "w2v_model.similarity('tasty', 'good')"
   ]
  },
  {
   "cell_type": "code",
   "execution_count": 106,
   "metadata": {
    "collapsed": true
   },
   "outputs": [],
   "source": [
    "w2v_model.save('/Users/Paul/Desktop/chinese_restaurants_review/w2v_model')"
   ]
  },
  {
   "cell_type": "code",
   "execution_count": 13,
   "metadata": {
    "collapsed": true
   },
   "outputs": [],
   "source": [
    "w2v_model=word2vec.Word2Vec.load('/Users/Paul/Desktop/chinese_restaurants_review/w2v_model')"
   ]
  },
  {
   "cell_type": "code",
   "execution_count": 2,
   "metadata": {
    "collapsed": true
   },
   "outputs": [],
   "source": [
    "def Average(token):\n",
    "    \n",
    "    # Here 300 is the number of neurals in the hidden layer\n",
    "    feature_vec = np.zeros((num_features,), dtype=\"float32\")\n",
    "    \n",
    "    n_words = 0\n",
    "    # we have trained a word2vec model named 'w2v_model'\n",
    "    \n",
    "    # make a set of words we have learned in model\n",
    "    word_set = set(w2v_model.wv.index2word)\n",
    "    \n",
    "    # only arverage the words that has certain correlation/similarity with the judgement words \"good\" or \"bad\". The others are ignored.\n",
    "    for x in token:\n",
    "        if x in word_set and (w2v_model.similarity('good', x)>=0 or w2v_model.similarity('bad', x)>=0):\n",
    "            n_words+= 1\n",
    "            feature_vec += w2v_model[x]\n",
    "    \n",
    "    return np.divide(feature_vec,float(n_words))"
   ]
  },
  {
   "cell_type": "code",
   "execution_count": 24,
   "metadata": {
    "collapsed": true
   },
   "outputs": [],
   "source": [
    "import time"
   ]
  },
  {
   "cell_type": "code",
   "execution_count": 27,
   "metadata": {},
   "outputs": [
    {
     "name": "stdout",
     "output_type": "stream",
     "text": [
      "Total time spent: 1567.4630041122437\n"
     ]
    }
   ],
   "source": [
    "begin = time.time()\n",
    "review['w2v_feature'] =review['token'].apply(lambda x: Average(x))\n",
    "print ('Total time spent:', time.time() - begin)"
   ]
  },
  {
   "cell_type": "code",
   "execution_count": 28,
   "metadata": {
    "collapsed": true
   },
   "outputs": [],
   "source": [
    "# removing rows that have Nan value for 'w2v_feature'\n",
    "ix = []\n",
    "for i in range(review.shape[0]):\n",
    "    if np.any(np.isnan(review.w2v_feature.iloc[i])): ix.append(i)\n",
    "review = review.drop(ix, axis= 0)"
   ]
  },
  {
   "cell_type": "code",
   "execution_count": null,
   "metadata": {
    "collapsed": true
   },
   "outputs": [],
   "source": [
    "review.to_json('/Users/Paul/Desktop/chinese_restaurants_review/review_w2v.json', orient='records', lines=True)"
   ]
  }
 ],
 "metadata": {
  "kernelspec": {
   "display_name": "Python 3",
   "language": "python",
   "name": "python3"
  },
  "language_info": {
   "codemirror_mode": {
    "name": "ipython",
    "version": 3
   },
   "file_extension": ".py",
   "mimetype": "text/x-python",
   "name": "python",
   "nbconvert_exporter": "python",
   "pygments_lexer": "ipython3",
   "version": "3.6.1"
  }
 },
 "nbformat": 4,
 "nbformat_minor": 2
}
